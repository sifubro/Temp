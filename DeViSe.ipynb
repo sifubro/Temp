{
 "cells": [
  {
   "cell_type": "markdown",
   "metadata": {},
   "source": [
    "## https://github.com/priyamtejaswin/devise-keras/tree/master"
   ]
  },
  {
   "cell_type": "code",
   "execution_count": 6,
   "metadata": {},
   "outputs": [],
   "source": [
    "import numpy as np\n",
    "import matplotlib.pyplot as plt\n",
    "#from itertools import izip\n",
    "from keras.models import Model\n",
    "from keras.layers import Flatten\n",
    "from keras.layers import Dense\n",
    "from keras.layers import Input\n",
    "from keras.layers import Conv2D\n",
    "from keras.layers import MaxPooling2D\n",
    "from keras.layers import GlobalMaxPooling2D\n",
    "from keras.layers import GlobalAveragePooling2D\n",
    "from keras.preprocessing import image\n",
    "from keras.applications.imagenet_utils import preprocess_input \n",
    "import keras.backend as K\n",
    "import h5py\n",
    "import argparse \n",
    "import os, sys #, ipdb\n",
    "#import cPickle as pickle\n",
    "from tqdm import *"
   ]
  },
  {
   "cell_type": "markdown",
   "metadata": {},
   "source": [
    "## https://github.com/priyamtejaswin/devise-keras/blob/master/extract_features_and_dump.py"
   ]
  },
  {
   "cell_type": "code",
   "execution_count": 13,
   "metadata": {},
   "outputs": [],
   "source": [
    "IMAGE_DIM = 50\n",
    "\n",
    "def define_model(path):\n",
    "\n",
    "\tinput_shape = (224,224,3)\n",
    "\n",
    "\t# placeholder - input image tensor\n",
    "\timg_input = Input(shape=input_shape)\n",
    "\n",
    "\t# Block 1\n",
    "\tx = Conv2D(64, (3, 3), activation='relu', padding='same', name='block1_conv1')(img_input)\n",
    "\tx = Conv2D(64, (3, 3), activation='relu', padding='same', name='block1_conv2')(x)\n",
    "\tx = MaxPooling2D((2, 2), strides=(2, 2), name='block1_pool')(x)\n",
    "\n",
    "\t# Block 2\n",
    "\tx = Conv2D(128, (3, 3), activation='relu', padding='same', name='block2_conv1')(x)\n",
    "\tx = Conv2D(128, (3, 3), activation='relu', padding='same', name='block2_conv2')(x)\n",
    "\tx = MaxPooling2D((2, 2), strides=(2, 2), name='block2_pool')(x)\n",
    "\n",
    "\t# Block 3\n",
    "\tx = Conv2D(256, (3, 3), activation='relu', padding='same', name='block3_conv1')(x)\n",
    "\tx = Conv2D(256, (3, 3), activation='relu', padding='same', name='block3_conv2')(x)\n",
    "\tx = Conv2D(256, (3, 3), activation='relu', padding='same', name='block3_conv3')(x)\n",
    "\tx = MaxPooling2D((2, 2), strides=(2, 2), name='block3_pool')(x)\n",
    "\n",
    "\t# Block 4\n",
    "\tx = Conv2D(512, (3, 3), activation='relu', padding='same', name='block4_conv1')(x)\n",
    "\tx = Conv2D(512, (3, 3), activation='relu', padding='same', name='block4_conv2')(x)\n",
    "\tx = Conv2D(512, (3, 3), activation='relu', padding='same', name='block4_conv3')(x)\n",
    "\tx = MaxPooling2D((2, 2), strides=(2, 2), name='block4_pool')(x)\n",
    "\n",
    "\t# Block 5\n",
    "\tx = Conv2D(512, (3, 3), activation='relu', padding='same', name='block5_conv1')(x)\n",
    "\tx = Conv2D(512, (3, 3), activation='relu', padding='same', name='block5_conv2')(x)\n",
    "\tx = Conv2D(512, (3, 3), activation='relu', padding='same', name='block5_conv3')(x)\n",
    "\tx = MaxPooling2D((2, 2), strides=(2, 2), name='block5_pool')(x)\n",
    "\n",
    "\tx = Flatten(name='flatten')(x)\n",
    "\tx = Dense(IMAGE_DIM, activation='relu', name='fc1')(x)\n",
    "\tx = Dense(IMAGE_DIM, activation='relu', name='fc2')(x)\n",
    "\n",
    "\tmodel = Model(inputs=img_input, outputs=x, name=\"vgg16\")\n",
    "\n",
    "\t# load wts\n",
    "\tmodel.load_weights(path, by_name=True)\n",
    "\t\n",
    "\t# These are theano weights, but we are running on tensorflow backend, so convert \n",
    "\t# theano kernels to tensorflow kernels . (channels_first, tf kernels)\n",
    "\t\n",
    "    #from keras.utils import convert_all_kernels_in_model\n",
    "\t#convert_all_kernels_in_model(model)\n",
    "\n",
    "\treturn model  "
   ]
  },
  {
   "cell_type": "code",
   "execution_count": 14,
   "metadata": {},
   "outputs": [],
   "source": [
    "weightpath = 'C://Users/30694/Downloads/epoch_13.hdf5'\n",
    "\n",
    "mymodel = define_model(weightpath)"
   ]
  },
  {
   "cell_type": "code",
   "execution_count": 15,
   "metadata": {
    "scrolled": true
   },
   "outputs": [
    {
     "name": "stdout",
     "output_type": "stream",
     "text": [
      "Model: \"vgg16\"\n",
      "_________________________________________________________________\n",
      "Layer (type)                 Output Shape              Param #   \n",
      "=================================================================\n",
      "input_4 (InputLayer)         [(None, 224, 224, 3)]     0         \n",
      "_________________________________________________________________\n",
      "block1_conv1 (Conv2D)        (None, 224, 224, 64)      1792      \n",
      "_________________________________________________________________\n",
      "block1_conv2 (Conv2D)        (None, 224, 224, 64)      36928     \n",
      "_________________________________________________________________\n",
      "block1_pool (MaxPooling2D)   (None, 112, 112, 64)      0         \n",
      "_________________________________________________________________\n",
      "block2_conv1 (Conv2D)        (None, 112, 112, 128)     73856     \n",
      "_________________________________________________________________\n",
      "block2_conv2 (Conv2D)        (None, 112, 112, 128)     147584    \n",
      "_________________________________________________________________\n",
      "block2_pool (MaxPooling2D)   (None, 56, 56, 128)       0         \n",
      "_________________________________________________________________\n",
      "block3_conv1 (Conv2D)        (None, 56, 56, 256)       295168    \n",
      "_________________________________________________________________\n",
      "block3_conv2 (Conv2D)        (None, 56, 56, 256)       590080    \n",
      "_________________________________________________________________\n",
      "block3_conv3 (Conv2D)        (None, 56, 56, 256)       590080    \n",
      "_________________________________________________________________\n",
      "block3_pool (MaxPooling2D)   (None, 28, 28, 256)       0         \n",
      "_________________________________________________________________\n",
      "block4_conv1 (Conv2D)        (None, 28, 28, 512)       1180160   \n",
      "_________________________________________________________________\n",
      "block4_conv2 (Conv2D)        (None, 28, 28, 512)       2359808   \n",
      "_________________________________________________________________\n",
      "block4_conv3 (Conv2D)        (None, 28, 28, 512)       2359808   \n",
      "_________________________________________________________________\n",
      "block4_pool (MaxPooling2D)   (None, 14, 14, 512)       0         \n",
      "_________________________________________________________________\n",
      "block5_conv1 (Conv2D)        (None, 14, 14, 512)       2359808   \n",
      "_________________________________________________________________\n",
      "block5_conv2 (Conv2D)        (None, 14, 14, 512)       2359808   \n",
      "_________________________________________________________________\n",
      "block5_conv3 (Conv2D)        (None, 14, 14, 512)       2359808   \n",
      "_________________________________________________________________\n",
      "block5_pool (MaxPooling2D)   (None, 7, 7, 512)         0         \n",
      "_________________________________________________________________\n",
      "flatten (Flatten)            (None, 25088)             0         \n",
      "_________________________________________________________________\n",
      "fc1 (Dense)                  (None, 50)                1254450   \n",
      "_________________________________________________________________\n",
      "fc2 (Dense)                  (None, 50)                2550      \n",
      "=================================================================\n",
      "Total params: 15,971,688\n",
      "Trainable params: 15,971,688\n",
      "Non-trainable params: 0\n",
      "_________________________________________________________________\n"
     ]
    }
   ],
   "source": [
    "mymodel.summary()"
   ]
  },
  {
   "cell_type": "markdown",
   "metadata": {},
   "source": [
    "## Question:\n",
    "\n",
    "- Is the epoch_13.hdf5 the correct to load or should I load cache.h5???"
   ]
  },
  {
   "cell_type": "code",
   "execution_count": null,
   "metadata": {},
   "outputs": [],
   "source": []
  },
  {
   "cell_type": "code",
   "execution_count": 1,
   "metadata": {},
   "outputs": [],
   "source": [
    "import numpy as np\n",
    "import matplotlib.pyplot as plt\n",
    "#from itertools import izip\n",
    "from keras.models import Model\n",
    "from keras.layers import Flatten\n",
    "from keras.layers import Dense\n",
    "from keras.layers import Input\n",
    "from keras.layers import Conv2D\n",
    "from keras.layers import MaxPooling2D\n",
    "from keras.layers import GlobalMaxPooling2D\n",
    "from keras.layers import GlobalAveragePooling2D\n",
    "from keras.preprocessing import image\n",
    "from keras.applications.imagenet_utils import preprocess_input \n",
    "import keras.backend as K\n",
    "import h5py\n",
    "import argparse \n",
    "import os, sys #, ipdb\n",
    "#import cPickle as pickle\n",
    "from tqdm import *"
   ]
  },
  {
   "cell_type": "code",
   "execution_count": 2,
   "metadata": {},
   "outputs": [],
   "source": [
    "IMAGE_DIM = 50\n",
    "\n",
    "def define_model(path):\n",
    "\n",
    "\tinput_shape = (224,224,3)\n",
    "\n",
    "\t# placeholder - input image tensor\n",
    "\timg_input = Input(shape=input_shape)\n",
    "\n",
    "\t# Block 1\n",
    "\tx = Conv2D(64, (3, 3), activation='relu', padding='same', name='block1_conv1')(img_input)\n",
    "\tx = Conv2D(64, (3, 3), activation='relu', padding='same', name='block1_conv2')(x)\n",
    "\tx = MaxPooling2D((2, 2), strides=(2, 2), name='block1_pool')(x)\n",
    "\n",
    "\t# Block 2\n",
    "\tx = Conv2D(128, (3, 3), activation='relu', padding='same', name='block2_conv1')(x)\n",
    "\tx = Conv2D(128, (3, 3), activation='relu', padding='same', name='block2_conv2')(x)\n",
    "\tx = MaxPooling2D((2, 2), strides=(2, 2), name='block2_pool')(x)\n",
    "\n",
    "\t# Block 3\n",
    "\tx = Conv2D(256, (3, 3), activation='relu', padding='same', name='block3_conv1')(x)\n",
    "\tx = Conv2D(256, (3, 3), activation='relu', padding='same', name='block3_conv2')(x)\n",
    "\tx = Conv2D(256, (3, 3), activation='relu', padding='same', name='block3_conv3')(x)\n",
    "\tx = MaxPooling2D((2, 2), strides=(2, 2), name='block3_pool')(x)\n",
    "\n",
    "\t# Block 4\n",
    "\tx = Conv2D(512, (3, 3), activation='relu', padding='same', name='block4_conv1')(x)\n",
    "\tx = Conv2D(512, (3, 3), activation='relu', padding='same', name='block4_conv2')(x)\n",
    "\tx = Conv2D(512, (3, 3), activation='relu', padding='same', name='block4_conv3')(x)\n",
    "\tx = MaxPooling2D((2, 2), strides=(2, 2), name='block4_pool')(x)\n",
    "\n",
    "\t# Block 5\n",
    "\tx = Conv2D(512, (3, 3), activation='relu', padding='same', name='block5_conv1')(x)\n",
    "\tx = Conv2D(512, (3, 3), activation='relu', padding='same', name='block5_conv2')(x)\n",
    "\tx = Conv2D(512, (3, 3), activation='relu', padding='same', name='block5_conv3')(x)\n",
    "\tx = MaxPooling2D((2, 2), strides=(2, 2), name='block5_pool')(x)\n",
    "\n",
    "\tx = Flatten(name='flatten')(x)\n",
    "\tx = Dense(IMAGE_DIM, activation='relu', name='fc1')(x)\n",
    "\tx = Dense(IMAGE_DIM, activation='relu', name='fc2')(x)\n",
    "\n",
    "\tmodel = Model(inputs=img_input, outputs=x, name=\"vgg16\")\n",
    "\n",
    "\t# load wts\n",
    "\tmodel.load_weights(path, by_name=True)\n",
    "\t\n",
    "\t# These are theano weights, but we are running on tensorflow backend, so convert \n",
    "\t# theano kernels to tensorflow kernels . (channels_first, tf kernels)\n",
    "\t\n",
    "    #from keras.utils import convert_all_kernels_in_model\n",
    "\t#convert_all_kernels_in_model(model)\n",
    "\n",
    "\treturn model  "
   ]
  },
  {
   "cell_type": "code",
   "execution_count": 3,
   "metadata": {},
   "outputs": [],
   "source": [
    "weightpath = 'C://Users/30694/Downloads/cache.h5'\n",
    "\n",
    "mymodel = define_model(weightpath)"
   ]
  },
  {
   "cell_type": "code",
   "execution_count": 4,
   "metadata": {
    "scrolled": true
   },
   "outputs": [
    {
     "name": "stdout",
     "output_type": "stream",
     "text": [
      "Model: \"vgg16\"\n",
      "_________________________________________________________________\n",
      "Layer (type)                 Output Shape              Param #   \n",
      "=================================================================\n",
      "input_1 (InputLayer)         [(None, 224, 224, 3)]     0         \n",
      "_________________________________________________________________\n",
      "block1_conv1 (Conv2D)        (None, 224, 224, 64)      1792      \n",
      "_________________________________________________________________\n",
      "block1_conv2 (Conv2D)        (None, 224, 224, 64)      36928     \n",
      "_________________________________________________________________\n",
      "block1_pool (MaxPooling2D)   (None, 112, 112, 64)      0         \n",
      "_________________________________________________________________\n",
      "block2_conv1 (Conv2D)        (None, 112, 112, 128)     73856     \n",
      "_________________________________________________________________\n",
      "block2_conv2 (Conv2D)        (None, 112, 112, 128)     147584    \n",
      "_________________________________________________________________\n",
      "block2_pool (MaxPooling2D)   (None, 56, 56, 128)       0         \n",
      "_________________________________________________________________\n",
      "block3_conv1 (Conv2D)        (None, 56, 56, 256)       295168    \n",
      "_________________________________________________________________\n",
      "block3_conv2 (Conv2D)        (None, 56, 56, 256)       590080    \n",
      "_________________________________________________________________\n",
      "block3_conv3 (Conv2D)        (None, 56, 56, 256)       590080    \n",
      "_________________________________________________________________\n",
      "block3_pool (MaxPooling2D)   (None, 28, 28, 256)       0         \n",
      "_________________________________________________________________\n",
      "block4_conv1 (Conv2D)        (None, 28, 28, 512)       1180160   \n",
      "_________________________________________________________________\n",
      "block4_conv2 (Conv2D)        (None, 28, 28, 512)       2359808   \n",
      "_________________________________________________________________\n",
      "block4_conv3 (Conv2D)        (None, 28, 28, 512)       2359808   \n",
      "_________________________________________________________________\n",
      "block4_pool (MaxPooling2D)   (None, 14, 14, 512)       0         \n",
      "_________________________________________________________________\n",
      "block5_conv1 (Conv2D)        (None, 14, 14, 512)       2359808   \n",
      "_________________________________________________________________\n",
      "block5_conv2 (Conv2D)        (None, 14, 14, 512)       2359808   \n",
      "_________________________________________________________________\n",
      "block5_conv3 (Conv2D)        (None, 14, 14, 512)       2359808   \n",
      "_________________________________________________________________\n",
      "block5_pool (MaxPooling2D)   (None, 7, 7, 512)         0         \n",
      "_________________________________________________________________\n",
      "flatten (Flatten)            (None, 25088)             0         \n",
      "_________________________________________________________________\n",
      "fc1 (Dense)                  (None, 50)                1254450   \n",
      "_________________________________________________________________\n",
      "fc2 (Dense)                  (None, 50)                2550      \n",
      "=================================================================\n",
      "Total params: 15,971,688\n",
      "Trainable params: 15,971,688\n",
      "Non-trainable params: 0\n",
      "_________________________________________________________________\n"
     ]
    }
   ],
   "source": [
    "mymodel.summary()"
   ]
  },
  {
   "cell_type": "markdown",
   "metadata": {},
   "source": [
    "## TODO\n",
    "\n",
    "- Check the embeddings on both to see the results"
   ]
  },
  {
   "cell_type": "markdown",
   "metadata": {},
   "source": [
    "## Glove embeddings\n",
    "\n",
    "Search also word2vec_Stanford"
   ]
  },
  {
   "cell_type": "code",
   "execution_count": 5,
   "metadata": {},
   "outputs": [],
   "source": [
    "word_to_embeddings = {}\n",
    "word_list=[]\n",
    "vec_list=[]\n",
    "with open(\"C://Users/30694/Downloads/glove.6B.50d.txt\", \"r\", encoding=\"utf8\") as f:\n",
    "    for line in f:\n",
    "        word_vec = line.strip('\\n').split( )\n",
    "        word = word_vec[0]\n",
    "        vec = np.array(word_vec[1:]).astype(float)\n",
    "        word_to_embeddings[word] = vec\n",
    "        word_list.append(word)\n",
    "        vec_list.append(vec)\n",
    "        #score.append(int(line.strip()))"
   ]
  },
  {
   "cell_type": "code",
   "execution_count": 6,
   "metadata": {
    "scrolled": true
   },
   "outputs": [
    {
     "data": {
      "text/plain": [
       "array([ 0.15272 ,  0.36181 , -0.22168 ,  0.066051,  0.13029 ,  0.37075 ,\n",
       "       -0.75874 , -0.44722 ,  0.22563 ,  0.10208 ,  0.054225,  0.13494 ,\n",
       "       -0.43052 , -0.2134  ,  0.56139 , -0.21445 ,  0.077974,  0.10137 ,\n",
       "       -0.51306 , -0.40295 ,  0.40639 ,  0.23309 ,  0.20696 , -0.12668 ,\n",
       "       -0.50634 , -1.7131  ,  0.077183, -0.39138 , -0.10594 , -0.23743 ,\n",
       "        3.9552  ,  0.66596 , -0.61841 , -0.3268  ,  0.37021 ,  0.25764 ,\n",
       "        0.38977 ,  0.27121 ,  0.043024, -0.34322 ,  0.020339,  0.2142  ,\n",
       "        0.044097,  0.14003 , -0.20079 ,  0.074794, -0.36076 ,  0.43382 ,\n",
       "       -0.084617,  0.1214  ])"
      ]
     },
     "execution_count": 6,
     "metadata": {},
     "output_type": "execute_result"
    }
   ],
   "source": [
    "word_to_embeddings['for']"
   ]
  },
  {
   "cell_type": "code",
   "execution_count": 8,
   "metadata": {},
   "outputs": [
    {
     "data": {
      "text/plain": [
       "['the', ',', '.', 'of', 'to', 'and', 'in', 'a', '\"', \"'s\"]"
      ]
     },
     "execution_count": 8,
     "metadata": {},
     "output_type": "execute_result"
    }
   ],
   "source": [
    "word_list[:10]"
   ]
  },
  {
   "cell_type": "code",
   "execution_count": 9,
   "metadata": {
    "scrolled": true
   },
   "outputs": [
    {
     "data": {
      "text/plain": [
       "[array([ 4.1800e-01,  2.4968e-01, -4.1242e-01,  1.2170e-01,  3.4527e-01,\n",
       "        -4.4457e-02, -4.9688e-01, -1.7862e-01, -6.6023e-04, -6.5660e-01,\n",
       "         2.7843e-01, -1.4767e-01, -5.5677e-01,  1.4658e-01, -9.5095e-03,\n",
       "         1.1658e-02,  1.0204e-01, -1.2792e-01, -8.4430e-01, -1.2181e-01,\n",
       "        -1.6801e-02, -3.3279e-01, -1.5520e-01, -2.3131e-01, -1.9181e-01,\n",
       "        -1.8823e+00, -7.6746e-01,  9.9051e-02, -4.2125e-01, -1.9526e-01,\n",
       "         4.0071e+00, -1.8594e-01, -5.2287e-01, -3.1681e-01,  5.9213e-04,\n",
       "         7.4449e-03,  1.7778e-01, -1.5897e-01,  1.2041e-02, -5.4223e-02,\n",
       "        -2.9871e-01, -1.5749e-01, -3.4758e-01, -4.5637e-02, -4.4251e-01,\n",
       "         1.8785e-01,  2.7849e-03, -1.8411e-01, -1.1514e-01, -7.8581e-01]),\n",
       " array([ 0.013441,  0.23682 , -0.16899 ,  0.40951 ,  0.63812 ,  0.47709 ,\n",
       "        -0.42852 , -0.55641 , -0.364   , -0.23938 ,  0.13001 , -0.063734,\n",
       "        -0.39575 , -0.48162 ,  0.23291 ,  0.090201, -0.13324 ,  0.078639,\n",
       "        -0.41634 , -0.15428 ,  0.10068 ,  0.48891 ,  0.31226 , -0.1252  ,\n",
       "        -0.037512, -1.5179  ,  0.12612 , -0.02442 , -0.042961, -0.28351 ,\n",
       "         3.5416  , -0.11956 , -0.014533, -0.1499  ,  0.21864 , -0.33412 ,\n",
       "        -0.13872 ,  0.31806 ,  0.70358 ,  0.44858 , -0.080262,  0.63003 ,\n",
       "         0.32111 , -0.46765 ,  0.22786 ,  0.36034 , -0.37818 , -0.56657 ,\n",
       "         0.044691,  0.30392 ]),\n",
       " array([ 1.5164e-01,  3.0177e-01, -1.6763e-01,  1.7684e-01,  3.1719e-01,\n",
       "         3.3973e-01, -4.3478e-01, -3.1086e-01, -4.4999e-01, -2.9486e-01,\n",
       "         1.6608e-01,  1.1963e-01, -4.1328e-01, -4.2353e-01,  5.9868e-01,\n",
       "         2.8825e-01, -1.1547e-01, -4.1848e-02, -6.7989e-01, -2.5063e-01,\n",
       "         1.8472e-01,  8.6876e-02,  4.6582e-01,  1.5035e-02,  4.3474e-02,\n",
       "        -1.4671e+00, -3.0384e-01, -2.3441e-02,  3.0589e-01, -2.1785e-01,\n",
       "         3.7460e+00,  4.2284e-03, -1.8436e-01, -4.6209e-01,  9.8329e-02,\n",
       "        -1.1907e-01,  2.3919e-01,  1.1610e-01,  4.1705e-01,  5.6763e-02,\n",
       "        -6.3681e-05,  6.8987e-02,  8.7939e-02, -1.0285e-01, -1.3931e-01,\n",
       "         2.2314e-01, -8.0803e-02, -3.5652e-01,  1.6413e-02,  1.0216e-01])]"
      ]
     },
     "execution_count": 9,
     "metadata": {},
     "output_type": "execute_result"
    }
   ],
   "source": [
    "vec_list[:3]"
   ]
  },
  {
   "cell_type": "code",
   "execution_count": 10,
   "metadata": {},
   "outputs": [
    {
     "data": {
      "text/plain": [
       "400000"
      ]
     },
     "execution_count": 10,
     "metadata": {},
     "output_type": "execute_result"
    }
   ],
   "source": [
    "len(vec_list)"
   ]
  },
  {
   "cell_type": "code",
   "execution_count": null,
   "metadata": {},
   "outputs": [],
   "source": []
  },
  {
   "cell_type": "markdown",
   "metadata": {},
   "source": [
    "## Work on specific instance and find Nearest Neighbor  (Not approximate)"
   ]
  },
  {
   "cell_type": "markdown",
   "metadata": {},
   "source": [
    "## https://github.com/priyamtejaswin/devise-keras/blob/master/extract_features_and_dump.py"
   ]
  },
  {
   "cell_type": "code",
   "execution_count": 15,
   "metadata": {},
   "outputs": [],
   "source": [
    "imgPath = 'C://Users/30694/Desktop/Google_Image_Search/Pascal_Sample_occluded/bus1.jpg'"
   ]
  },
  {
   "cell_type": "code",
   "execution_count": 17,
   "metadata": {},
   "outputs": [
    {
     "data": {
      "image/png": "[encoded data removed]",
      "text/plain": [
       "<PIL.Image.Image image mode=RGB size=224x224 at 0x27220E9C748>"
      ]
     },
     "execution_count": 17,
     "metadata": {},
     "output_type": "execute_result"
    }
   ],
   "source": [
    "img = image.load_img(imgPath, target_size=(224, 224))\n",
    "img"
   ]
  },
  {
   "cell_type": "code",
   "execution_count": 18,
   "metadata": {},
   "outputs": [],
   "source": [
    "loaded_images = []\n",
    "img = image.img_to_array(img)\n",
    "loaded_images.append(img)"
   ]
  },
  {
   "cell_type": "code",
   "execution_count": 19,
   "metadata": {},
   "outputs": [
    {
     "data": {
      "text/plain": [
       "(1, 224, 224, 3)"
      ]
     },
     "execution_count": 19,
     "metadata": {},
     "output_type": "execute_result"
    }
   ],
   "source": [
    "loaded_images = np.array(loaded_images)\n",
    "loaded_images.shape"
   ]
  },
  {
   "cell_type": "code",
   "execution_count": 20,
   "metadata": {},
   "outputs": [],
   "source": [
    "batch = preprocess_input(loaded_images)"
   ]
  },
  {
   "cell_type": "code",
   "execution_count": 21,
   "metadata": {},
   "outputs": [],
   "source": [
    "scores = mymodel.predict(batch)"
   ]
  },
  {
   "cell_type": "code",
   "execution_count": 22,
   "metadata": {},
   "outputs": [
    {
     "data": {
      "text/plain": [
       "(1, 50)"
      ]
     },
     "execution_count": 22,
     "metadata": {},
     "output_type": "execute_result"
    }
   ],
   "source": [
    "scores.shape"
   ]
  },
  {
   "cell_type": "code",
   "execution_count": 23,
   "metadata": {},
   "outputs": [
    {
     "data": {
      "text/plain": [
       "array([[0.0950034 , 0.        , 0.        , 0.        , 0.        ,\n",
       "        0.        , 0.        , 0.0012328 , 0.        , 0.27301785,\n",
       "        0.        , 0.3812366 , 0.        , 0.        , 0.5525592 ,\n",
       "        0.04965357, 0.        , 0.        , 0.03349864, 0.05911363,\n",
       "        0.        , 0.        , 0.        , 0.21943714, 0.        ,\n",
       "        0.        , 0.15907308, 0.20723312, 0.12908481, 0.1037076 ,\n",
       "        0.        , 0.5348237 , 0.        , 0.05443479, 0.06947672,\n",
       "        0.        , 0.03526341, 0.        , 0.        , 0.189958  ,\n",
       "        0.2822431 , 0.        , 0.2327904 , 0.06379167, 0.13390149,\n",
       "        0.0045258 , 0.        , 0.        , 0.        , 0.        ]],\n",
       "      dtype=float32)"
      ]
     },
     "execution_count": 23,
     "metadata": {},
     "output_type": "execute_result"
    }
   ],
   "source": [
    "scores"
   ]
  },
  {
   "cell_type": "markdown",
   "metadata": {},
   "source": [
    "## Get the nearest neighbor\n",
    "\n",
    "## https://github.com/priyamtejaswin/devise-keras/blob/master/validation_script.py\n"
   ]
  },
  {
   "cell_type": "code",
   "execution_count": 25,
   "metadata": {},
   "outputs": [],
   "source": [
    "word_set = set(word_list)"
   ]
  },
  {
   "cell_type": "code",
   "execution_count": 40,
   "metadata": {},
   "outputs": [
    {
     "name": "stdout",
     "output_type": "stream",
     "text": [
      "0 True bus\n",
      "1 True car\n",
      "2 True bicycle\n",
      "3 True man\n",
      "4 True woman\n",
      "5 True person\n",
      "6 True bike\n",
      "7 True airplane\n",
      "8 True traffic\n",
      "9 True sign\n",
      "10 True train\n",
      "11 True truck\n",
      "12 True road\n",
      "13 True hair\n",
      "14 True window\n",
      "15 True door\n",
      "16 True kid\n",
      "17 True light\n",
      "18 True boat\n",
      "19 True aeroplane\n",
      "20 True motorbike\n",
      "21 True signal\n"
     ]
    }
   ],
   "source": [
    "classes = ['bus', 'car', 'bicycle', 'man', 'woman', 'person', 'bike', 'airplane', 'traffic', \n",
    "           'sign', 'train', 'truck', 'road', 'hair', 'window', 'door', 'kid', 'light' ,'boat',\n",
    "          'aeroplane', 'motorbike', 'signal']\n",
    "i=0\n",
    "for item in classes:\n",
    "    print(i, item in word_set, item)\n",
    "    i+=1"
   ]
  },
  {
   "cell_type": "code",
   "execution_count": 43,
   "metadata": {},
   "outputs": [
    {
     "data": {
      "text/plain": [
       "1708"
      ]
     },
     "execution_count": 43,
     "metadata": {},
     "output_type": "execute_result"
    }
   ],
   "source": [
    "word_list.index('bus')"
   ]
  },
  {
   "cell_type": "code",
   "execution_count": null,
   "metadata": {},
   "outputs": [],
   "source": [
    "vec_list['bus']"
   ]
  },
  {
   "cell_type": "code",
   "execution_count": 46,
   "metadata": {},
   "outputs": [
    {
     "ename": "NameError",
     "evalue": "name 'class_embeddings' is not defined",
     "output_type": "error",
     "traceback": [
      "\u001b[1;31m---------------------------------------------------------------------------\u001b[0m",
      "\u001b[1;31mNameError\u001b[0m                                 Traceback (most recent call last)",
      "\u001b[1;32m<ipython-input-46-3e7d3bdfb17d>\u001b[0m in \u001b[0;36m<module>\u001b[1;34m\u001b[0m\n\u001b[1;32m----> 1\u001b[1;33m \u001b[0mclass_embeddings\u001b[0m\u001b[1;33m\u001b[0m\u001b[1;33m\u001b[0m\u001b[0m\n\u001b[0m",
      "\u001b[1;31mNameError\u001b[0m: name 'class_embeddings' is not defined"
     ]
    }
   ],
   "source": [
    "class_embeddings"
   ]
  },
  {
   "cell_type": "code",
   "execution_count": 48,
   "metadata": {},
   "outputs": [],
   "source": [
    "# Keep only those word_embed and word_names that are present in dataset \n",
    "class_embeddings = []\n",
    "for cls in classes:\n",
    "    idx = word_list.index(cls) # get the index of the class\n",
    "    class_embeddings.append(vec_list[idx]) # append the word embedding\n",
    "    \n",
    "class_embeddings = np.array(class_embeddings)\n",
    "class_embeddings = class_embeddings / np.linalg.norm(class_embeddings, axis=1, keepdims=True)"
   ]
  },
  {
   "cell_type": "code",
   "execution_count": 49,
   "metadata": {},
   "outputs": [],
   "source": [
    "preds = scores / np.linalg.norm(scores)\n",
    "\n",
    "diff = class_embeddings - preds\n",
    "diff = np.linalg.norm(diff, axis=1)\n",
    "\n",
    "min_idx = np.argsort(diff)"
   ]
  },
  {
   "cell_type": "code",
   "execution_count": 50,
   "metadata": {},
   "outputs": [
    {
     "data": {
      "text/plain": [
       "array([ 9,  8,  5,  6, 10, 16,  1,  7, 18,  0, 13,  2, 14,  3, 11, 20, 15,\n",
       "        4, 19, 17, 21, 12], dtype=int64)"
      ]
     },
     "execution_count": 50,
     "metadata": {},
     "output_type": "execute_result"
    }
   ],
   "source": [
    "min_idx"
   ]
  },
  {
   "cell_type": "code",
   "execution_count": 55,
   "metadata": {},
   "outputs": [],
   "source": [
    "closest_words = []\n",
    "for i in min_idx[:3]:\n",
    "    # print self.unique_classes[i]\n",
    "    closest_words.append(classes[i])"
   ]
  },
  {
   "cell_type": "code",
   "execution_count": 56,
   "metadata": {
    "scrolled": true
   },
   "outputs": [
    {
     "data": {
      "text/plain": [
       "['sign', 'traffic', 'person']"
      ]
     },
     "execution_count": 56,
     "metadata": {},
     "output_type": "execute_result"
    }
   ],
   "source": [
    "closest_words"
   ]
  },
  {
   "cell_type": "code",
   "execution_count": null,
   "metadata": {},
   "outputs": [],
   "source": []
  },
  {
   "cell_type": "markdown",
   "metadata": {},
   "source": [
    "## Summary:"
   ]
  },
  {
   "cell_type": "code",
   "execution_count": 1,
   "metadata": {},
   "outputs": [],
   "source": [
    "import numpy as np\n",
    "import matplotlib.pyplot as plt\n",
    "#from itertools import izip\n",
    "from keras.models import Model\n",
    "from keras.layers import Flatten\n",
    "from keras.layers import Dense\n",
    "from keras.layers import Input\n",
    "from keras.layers import Conv2D\n",
    "from keras.layers import MaxPooling2D\n",
    "from keras.layers import GlobalMaxPooling2D\n",
    "from keras.layers import GlobalAveragePooling2D\n",
    "from keras.preprocessing import image\n",
    "from keras.applications.imagenet_utils import preprocess_input \n",
    "import keras.backend as K\n",
    "import h5py\n",
    "import argparse \n",
    "import os, sys #, ipdb\n",
    "#import cPickle as pickle\n",
    "from tqdm import *"
   ]
  },
  {
   "cell_type": "code",
   "execution_count": 2,
   "metadata": {},
   "outputs": [],
   "source": [
    "IMAGE_DIM = 50\n",
    "\n",
    "def define_model(path):\n",
    "\n",
    "\tinput_shape = (224,224,3)\n",
    "\n",
    "\t# placeholder - input image tensor\n",
    "\timg_input = Input(shape=input_shape)\n",
    "\n",
    "\t# Block 1\n",
    "\tx = Conv2D(64, (3, 3), activation='relu', padding='same', name='block1_conv1')(img_input)\n",
    "\tx = Conv2D(64, (3, 3), activation='relu', padding='same', name='block1_conv2')(x)\n",
    "\tx = MaxPooling2D((2, 2), strides=(2, 2), name='block1_pool')(x)\n",
    "\n",
    "\t# Block 2\n",
    "\tx = Conv2D(128, (3, 3), activation='relu', padding='same', name='block2_conv1')(x)\n",
    "\tx = Conv2D(128, (3, 3), activation='relu', padding='same', name='block2_conv2')(x)\n",
    "\tx = MaxPooling2D((2, 2), strides=(2, 2), name='block2_pool')(x)\n",
    "\n",
    "\t# Block 3\n",
    "\tx = Conv2D(256, (3, 3), activation='relu', padding='same', name='block3_conv1')(x)\n",
    "\tx = Conv2D(256, (3, 3), activation='relu', padding='same', name='block3_conv2')(x)\n",
    "\tx = Conv2D(256, (3, 3), activation='relu', padding='same', name='block3_conv3')(x)\n",
    "\tx = MaxPooling2D((2, 2), strides=(2, 2), name='block3_pool')(x)\n",
    "\n",
    "\t# Block 4\n",
    "\tx = Conv2D(512, (3, 3), activation='relu', padding='same', name='block4_conv1')(x)\n",
    "\tx = Conv2D(512, (3, 3), activation='relu', padding='same', name='block4_conv2')(x)\n",
    "\tx = Conv2D(512, (3, 3), activation='relu', padding='same', name='block4_conv3')(x)\n",
    "\tx = MaxPooling2D((2, 2), strides=(2, 2), name='block4_pool')(x)\n",
    "\n",
    "\t# Block 5\n",
    "\tx = Conv2D(512, (3, 3), activation='relu', padding='same', name='block5_conv1')(x)\n",
    "\tx = Conv2D(512, (3, 3), activation='relu', padding='same', name='block5_conv2')(x)\n",
    "\tx = Conv2D(512, (3, 3), activation='relu', padding='same', name='block5_conv3')(x)\n",
    "\tx = MaxPooling2D((2, 2), strides=(2, 2), name='block5_pool')(x)\n",
    "\n",
    "\tx = Flatten(name='flatten')(x)\n",
    "\tx = Dense(IMAGE_DIM, activation='relu', name='fc1')(x)\n",
    "\tx = Dense(IMAGE_DIM, activation='relu', name='fc2')(x)\n",
    "\n",
    "\tmodel = Model(inputs=img_input, outputs=x, name=\"vgg16\")\n",
    "\n",
    "\t# load wts\n",
    "\tmodel.load_weights(path, by_name=True)\n",
    "\t\n",
    "\t# These are theano weights, but we are running on tensorflow backend, so convert \n",
    "\t# theano kernels to tensorflow kernels . (channels_first, tf kernels)\n",
    "\t\n",
    "    #from keras.utils import convert_all_kernels_in_model\n",
    "\t#convert_all_kernels_in_model(model)\n",
    "\n",
    "\treturn model  "
   ]
  },
  {
   "cell_type": "code",
   "execution_count": 3,
   "metadata": {},
   "outputs": [],
   "source": [
    "weightpath = 'C://Users/30694/Downloads/cache.h5'\n",
    "\n",
    "mymodel = define_model(weightpath)"
   ]
  },
  {
   "cell_type": "code",
   "execution_count": 5,
   "metadata": {},
   "outputs": [],
   "source": [
    "word_to_embeddings = {}\n",
    "word_list=[]\n",
    "vec_list=[]\n",
    "with open(\"C://Users/30694/Downloads/glove.6B.50d.txt\", \"r\", encoding=\"utf8\") as f:\n",
    "    for line in f:\n",
    "        word_vec = line.strip('\\n').split( )\n",
    "        word = word_vec[0]\n",
    "        vec = np.array(word_vec[1:]).astype(float)\n",
    "        word_to_embeddings[word] = vec\n",
    "        word_list.append(word)\n",
    "        vec_list.append(vec)\n",
    "        #score.append(int(line.strip()))"
   ]
  },
  {
   "cell_type": "code",
   "execution_count": 64,
   "metadata": {},
   "outputs": [
    {
     "name": "stdout",
     "output_type": "stream",
     "text": [
      "0 True bus\n",
      "1 True car\n",
      "2 True bicycle\n",
      "3 True man\n",
      "4 True woman\n",
      "5 True person\n",
      "6 True bike\n",
      "7 True airplane\n",
      "8 True traffic\n",
      "9 True sign\n",
      "10 True train\n",
      "11 True truck\n",
      "12 True road\n",
      "13 True hair\n",
      "14 True window\n",
      "15 True door\n",
      "16 True kid\n",
      "17 True light\n",
      "18 True boat\n",
      "19 True aeroplane\n",
      "20 True motorbike\n",
      "21 True signal\n",
      "22 True wheel\n"
     ]
    }
   ],
   "source": [
    "classes = ['bus', 'car', 'bicycle', 'man', 'woman', 'person', 'bike', 'airplane', 'traffic', \n",
    "           'sign', 'train', 'truck', 'road', 'hair', 'window', 'door', 'kid', 'light' ,'boat',\n",
    "          'aeroplane', 'motorbike', 'signal', 'wheel']\n",
    "i=0\n",
    "for item in classes:\n",
    "    print(i, item in word_set, item)\n",
    "    i+=1"
   ]
  },
  {
   "cell_type": "code",
   "execution_count": 65,
   "metadata": {},
   "outputs": [],
   "source": [
    "# Keep only those word_embed and word_names that are present in dataset \n",
    "class_embeddings = []\n",
    "for cls in classes:\n",
    "    idx = word_list.index(cls) # get the index of the class\n",
    "    class_embeddings.append(vec_list[idx]) # append the word embedding\n",
    "\n",
    "class_embeddings = np.array(class_embeddings)\n",
    "class_embeddings = class_embeddings / np.linalg.norm(class_embeddings, axis=1, keepdims=True)"
   ]
  },
  {
   "cell_type": "code",
   "execution_count": 66,
   "metadata": {},
   "outputs": [],
   "source": [
    "def label_image_knn_devise(imgPath, kNN=3):\n",
    "    img = image.load_img(imgPath, target_size=(224, 224)) #(224,224,3)\n",
    "    loaded_images = []\n",
    "    img = image.img_to_array(img)\n",
    "    loaded_images.append(img)\n",
    "    loaded_images = np.array(loaded_images) # (1,224,224,3)\n",
    "    \n",
    "    batch = preprocess_input(loaded_images)\n",
    "    preds = mymodel.predict(batch) #(1,50)\n",
    "    preds = preds / np.linalg.norm(preds)\n",
    "\n",
    "    diff = class_embeddings - preds\n",
    "    diff = np.linalg.norm(diff, axis=1)\n",
    "\n",
    "    min_idx = np.argsort(diff)\n",
    "    closest_words = []\n",
    "    for i in min_idx[:kNN]:\n",
    "        # print self.unique_classes[i]\n",
    "        closest_words.append(classes[i])\n",
    "        \n",
    "    return closest_words"
   ]
  },
  {
   "cell_type": "code",
   "execution_count": 67,
   "metadata": {},
   "outputs": [
    {
     "data": {
      "text/plain": [
       "['person', 'kid', 'train']"
      ]
     },
     "execution_count": 67,
     "metadata": {},
     "output_type": "execute_result"
    }
   ],
   "source": [
    "imgPath = 'C://Users/30694/Desktop/Google_Image_Search/Pascal_Sample_occluded/bicycle.jpg'\n",
    "label_image_knn_devise(imgPath)"
   ]
  },
  {
   "cell_type": "code",
   "execution_count": 68,
   "metadata": {},
   "outputs": [
    {
     "data": {
      "text/plain": [
       "['person', 'kid', 'sign']"
      ]
     },
     "execution_count": 68,
     "metadata": {},
     "output_type": "execute_result"
    }
   ],
   "source": [
    "imgPath = 'C://Users/30694/Desktop/Google_Image_Search/Pascal_Sample_occluded/motor1.jpg'\n",
    "label_image_knn_devise(imgPath)"
   ]
  },
  {
   "cell_type": "code",
   "execution_count": 69,
   "metadata": {},
   "outputs": [
    {
     "data": {
      "text/plain": [
       "['person', 'kid', 'sign']"
      ]
     },
     "execution_count": 69,
     "metadata": {},
     "output_type": "execute_result"
    }
   ],
   "source": [
    "imgPath = 'C://Users/30694/Desktop/Google_Image_Search/Pascal_Sample_occluded/traffic.jpg'\n",
    "label_image_knn_devise(imgPath)"
   ]
  },
  {
   "cell_type": "code",
   "execution_count": 70,
   "metadata": {},
   "outputs": [
    {
     "data": {
      "text/plain": [
       "['traffic', 'sign', 'person']"
      ]
     },
     "execution_count": 70,
     "metadata": {},
     "output_type": "execute_result"
    }
   ],
   "source": [
    "imgPath = 'C://Users/30694/Desktop/Google_Image_Search/Pascal_Sample_occluded/car1.jpg'\n",
    "label_image_knn_devise(imgPath)"
   ]
  },
  {
   "cell_type": "code",
   "execution_count": 71,
   "metadata": {},
   "outputs": [
    {
     "data": {
      "text/plain": [
       "['kid', 'person', 'sign']"
      ]
     },
     "execution_count": 71,
     "metadata": {},
     "output_type": "execute_result"
    }
   ],
   "source": [
    "imgPath = 'C://Users/30694/Desktop/Google_Image_Search/Pascal_Sample_occluded/000000291634.jpg'\n",
    "label_image_knn_devise(imgPath)"
   ]
  },
  {
   "cell_type": "code",
   "execution_count": 72,
   "metadata": {},
   "outputs": [
    {
     "data": {
      "text/plain": [
       "['kid', 'person', 'train']"
      ]
     },
     "execution_count": 72,
     "metadata": {},
     "output_type": "execute_result"
    }
   ],
   "source": [
    "imgPath = 'C://Users/30694/Desktop/Google_Image_Search/Pascal_Sample_occluded/wheel_1.png'\n",
    "label_image_knn_devise(imgPath)"
   ]
  },
  {
   "cell_type": "code",
   "execution_count": null,
   "metadata": {},
   "outputs": [],
   "source": []
  },
  {
   "cell_type": "code",
   "execution_count": null,
   "metadata": {},
   "outputs": [],
   "source": []
  },
  {
   "cell_type": "code",
   "execution_count": null,
   "metadata": {},
   "outputs": [],
   "source": []
  },
  {
   "cell_type": "code",
   "execution_count": null,
   "metadata": {},
   "outputs": [],
   "source": []
  },
  {
   "cell_type": "code",
   "execution_count": 24,
   "metadata": {},
   "outputs": [
    {
     "data": {
      "text/plain": [
       "array([6, 8, 7, 3, 2, 0, 1, 4, 5, 9], dtype=int64)"
      ]
     },
     "execution_count": 24,
     "metadata": {},
     "output_type": "execute_result"
    }
   ],
   "source": [
    "np.argsort([4,5,2,1,6,7,-4,0,-1,8])  # increasing"
   ]
  },
  {
   "cell_type": "code",
   "execution_count": null,
   "metadata": {},
   "outputs": [],
   "source": []
  },
  {
   "cell_type": "code",
   "execution_count": null,
   "metadata": {},
   "outputs": [],
   "source": []
  },
  {
   "cell_type": "code",
   "execution_count": null,
   "metadata": {},
   "outputs": [],
   "source": []
  },
  {
   "cell_type": "code",
   "execution_count": null,
   "metadata": {},
   "outputs": [],
   "source": []
  },
  {
   "cell_type": "markdown",
   "metadata": {},
   "source": [
    "## How to find the most similar embedding given an image??"
   ]
  },
  {
   "cell_type": "markdown",
   "metadata": {},
   "source": [
    "## Nearest Neighbors for Glove embeddings\n",
    "\n",
    "### https://stackoverflow.com/questions/32446703/find-closest-vector-from-a-list-of-vectors-python\n",
    "\n",
    "### https://datascience.stackexchange.com/questions/10898/method-for-finding-top-k-cosine-similarity-based-closest-item-on-large-dataset/23667\n",
    "\n",
    "### https://datascience.stackexchange.com/questions/62112/is-annoy-a-machine-learning-algorithm-to-find-nearest-neighbor-and-is-it-simil\n",
    "\n",
    "### https://radimrehurek.com/gensim/auto_examples/\n",
    "\n"
   ]
  },
  {
   "cell_type": "code",
   "execution_count": 13,
   "metadata": {},
   "outputs": [],
   "source": [
    "from scipy import spatial\n",
    "\n",
    "tree_embeddings = spatial.KDTree(vec_list)"
   ]
  },
  {
   "cell_type": "code",
   "execution_count": null,
   "metadata": {},
   "outputs": [],
   "source": []
  },
  {
   "cell_type": "code",
   "execution_count": null,
   "metadata": {},
   "outputs": [],
   "source": []
  },
  {
   "cell_type": "markdown",
   "metadata": {},
   "source": [
    "The first return value is the distance of the closest neighbor and the second its position in A, such that you can obtain it for example like this:\n",
    "\n",
    "`A[ tree.query([0.5,0.5,0.5,0.5,0.5])[1] ] \n",
    "[1, 0, 1, 0, 1]`"
   ]
  },
  {
   "cell_type": "code",
   "execution_count": null,
   "metadata": {},
   "outputs": [],
   "source": [
    "tree.query([0.5,0.5,0.5,0.5,0.5])  # "
   ]
  },
  {
   "cell_type": "code",
   "execution_count": null,
   "metadata": {},
   "outputs": [],
   "source": []
  },
  {
   "cell_type": "code",
   "execution_count": null,
   "metadata": {},
   "outputs": [],
   "source": []
  },
  {
   "cell_type": "code",
   "execution_count": null,
   "metadata": {},
   "outputs": [],
   "source": []
  },
  {
   "cell_type": "code",
   "execution_count": null,
   "metadata": {},
   "outputs": [],
   "source": []
  },
  {
   "cell_type": "code",
   "execution_count": 11,
   "metadata": {},
   "outputs": [],
   "source": [
    "import numpy as np\n",
    "\n",
    "# Get the interactive Tools for Matplotlib\n",
    "%matplotlib notebook\n",
    "import matplotlib.pyplot as plt\n",
    "plt.style.use('ggplot')\n",
    "\n",
    "from sklearn.decomposition import PCA\n",
    "\n",
    "from gensim.test.utils import datapath, get_tmpfile\n",
    "from gensim.models import KeyedVectors\n",
    "from gensim.scripts.glove2word2vec import glove2word2vec"
   ]
  },
  {
   "cell_type": "code",
   "execution_count": 12,
   "metadata": {},
   "outputs": [
    {
     "ename": "NotImplementedError",
     "evalue": "Unable to handle scheme 'c', expected one of ('', 'file', 'hdfs', 'http', 'https', 's3', 's3a', 's3n', 's3u', 'scp', 'sftp', 'ssh', 'webhdfs'). Extra dependencies required by 'c' may be missing. See <https://github.com/RaRe-Technologies/smart_open/blob/master/README.rst> for details.",
     "output_type": "error",
     "traceback": [
      "\u001b[1;31m---------------------------------------------------------------------------\u001b[0m",
      "\u001b[1;31mKeyError\u001b[0m                                  Traceback (most recent call last)",
      "\u001b[1;32m~\\anaconda3\\lib\\site-packages\\smart_open\\transport.py\u001b[0m in \u001b[0;36mget_transport\u001b[1;34m(scheme)\u001b[0m\n\u001b[0;32m     73\u001b[0m     \u001b[1;32mtry\u001b[0m\u001b[1;33m:\u001b[0m\u001b[1;33m\u001b[0m\u001b[1;33m\u001b[0m\u001b[0m\n\u001b[1;32m---> 74\u001b[1;33m         \u001b[0msubmodule\u001b[0m \u001b[1;33m=\u001b[0m \u001b[0m_REGISTRY\u001b[0m\u001b[1;33m[\u001b[0m\u001b[0mscheme\u001b[0m\u001b[1;33m]\u001b[0m\u001b[1;33m\u001b[0m\u001b[1;33m\u001b[0m\u001b[0m\n\u001b[0m\u001b[0;32m     75\u001b[0m     \u001b[1;32mexcept\u001b[0m \u001b[0mKeyError\u001b[0m \u001b[1;32mas\u001b[0m \u001b[0me\u001b[0m\u001b[1;33m:\u001b[0m\u001b[1;33m\u001b[0m\u001b[1;33m\u001b[0m\u001b[0m\n",
      "\u001b[1;31mKeyError\u001b[0m: 'c'",
      "\nThe above exception was the direct cause of the following exception:\n",
      "\u001b[1;31mNotImplementedError\u001b[0m                       Traceback (most recent call last)",
      "\u001b[1;32m<ipython-input-12-d8b4b6986b2b>\u001b[0m in \u001b[0;36m<module>\u001b[1;34m\u001b[0m\n\u001b[0;32m      1\u001b[0m \u001b[0mglove_file\u001b[0m \u001b[1;33m=\u001b[0m \u001b[0mdatapath\u001b[0m\u001b[1;33m(\u001b[0m\u001b[1;34m'C://Users/30694/Downloads/glove.6B.50d.txt'\u001b[0m\u001b[1;33m)\u001b[0m\u001b[1;33m\u001b[0m\u001b[1;33m\u001b[0m\u001b[0m\n\u001b[0;32m      2\u001b[0m \u001b[0mword2vec_glove_file\u001b[0m \u001b[1;33m=\u001b[0m \u001b[0mget_tmpfile\u001b[0m\u001b[1;33m(\u001b[0m\u001b[1;34m\"C://Users/30694/Downloads/glove.6B.50d.word2vec.txt\"\u001b[0m\u001b[1;33m)\u001b[0m\u001b[1;33m\u001b[0m\u001b[1;33m\u001b[0m\u001b[0m\n\u001b[1;32m----> 3\u001b[1;33m \u001b[0mglove2word2vec\u001b[0m\u001b[1;33m(\u001b[0m\u001b[0mglove_file\u001b[0m\u001b[1;33m,\u001b[0m \u001b[0mword2vec_glove_file\u001b[0m\u001b[1;33m)\u001b[0m\u001b[1;33m\u001b[0m\u001b[1;33m\u001b[0m\u001b[0m\n\u001b[0m",
      "\u001b[1;32m~\\anaconda3\\lib\\site-packages\\gensim\\scripts\\glove2word2vec.py\u001b[0m in \u001b[0;36mglove2word2vec\u001b[1;34m(glove_input_file, word2vec_output_file)\u001b[0m\n\u001b[0;32m    102\u001b[0m \u001b[1;33m\u001b[0m\u001b[0m\n\u001b[0;32m    103\u001b[0m     \"\"\"\n\u001b[1;32m--> 104\u001b[1;33m     \u001b[0mnum_lines\u001b[0m\u001b[1;33m,\u001b[0m \u001b[0mnum_dims\u001b[0m \u001b[1;33m=\u001b[0m \u001b[0mget_glove_info\u001b[0m\u001b[1;33m(\u001b[0m\u001b[0mglove_input_file\u001b[0m\u001b[1;33m)\u001b[0m\u001b[1;33m\u001b[0m\u001b[1;33m\u001b[0m\u001b[0m\n\u001b[0m\u001b[0;32m    105\u001b[0m     \u001b[0mlogger\u001b[0m\u001b[1;33m.\u001b[0m\u001b[0minfo\u001b[0m\u001b[1;33m(\u001b[0m\u001b[1;34m\"converting %i vectors from %s to %s\"\u001b[0m\u001b[1;33m,\u001b[0m \u001b[0mnum_lines\u001b[0m\u001b[1;33m,\u001b[0m \u001b[0mglove_input_file\u001b[0m\u001b[1;33m,\u001b[0m \u001b[0mword2vec_output_file\u001b[0m\u001b[1;33m)\u001b[0m\u001b[1;33m\u001b[0m\u001b[1;33m\u001b[0m\u001b[0m\n\u001b[0;32m    106\u001b[0m     \u001b[1;32mwith\u001b[0m \u001b[0mutils\u001b[0m\u001b[1;33m.\u001b[0m\u001b[0mopen\u001b[0m\u001b[1;33m(\u001b[0m\u001b[0mword2vec_output_file\u001b[0m\u001b[1;33m,\u001b[0m \u001b[1;34m'wb'\u001b[0m\u001b[1;33m)\u001b[0m \u001b[1;32mas\u001b[0m \u001b[0mfout\u001b[0m\u001b[1;33m:\u001b[0m\u001b[1;33m\u001b[0m\u001b[1;33m\u001b[0m\u001b[0m\n",
      "\u001b[1;32m~\\anaconda3\\lib\\site-packages\\gensim\\scripts\\glove2word2vec.py\u001b[0m in \u001b[0;36mget_glove_info\u001b[1;34m(glove_file_name)\u001b[0m\n\u001b[0;32m     79\u001b[0m \u001b[1;33m\u001b[0m\u001b[0m\n\u001b[0;32m     80\u001b[0m     \"\"\"\n\u001b[1;32m---> 81\u001b[1;33m     \u001b[1;32mwith\u001b[0m \u001b[0mutils\u001b[0m\u001b[1;33m.\u001b[0m\u001b[0mopen\u001b[0m\u001b[1;33m(\u001b[0m\u001b[0mglove_file_name\u001b[0m\u001b[1;33m,\u001b[0m \u001b[1;34m'rb'\u001b[0m\u001b[1;33m)\u001b[0m \u001b[1;32mas\u001b[0m \u001b[0mf\u001b[0m\u001b[1;33m:\u001b[0m\u001b[1;33m\u001b[0m\u001b[1;33m\u001b[0m\u001b[0m\n\u001b[0m\u001b[0;32m     82\u001b[0m         \u001b[0mnum_lines\u001b[0m \u001b[1;33m=\u001b[0m \u001b[0msum\u001b[0m\u001b[1;33m(\u001b[0m\u001b[1;36m1\u001b[0m \u001b[1;32mfor\u001b[0m \u001b[0m_\u001b[0m \u001b[1;32min\u001b[0m \u001b[0mf\u001b[0m\u001b[1;33m)\u001b[0m\u001b[1;33m\u001b[0m\u001b[1;33m\u001b[0m\u001b[0m\n\u001b[0;32m     83\u001b[0m     \u001b[1;32mwith\u001b[0m \u001b[0mutils\u001b[0m\u001b[1;33m.\u001b[0m\u001b[0mopen\u001b[0m\u001b[1;33m(\u001b[0m\u001b[0mglove_file_name\u001b[0m\u001b[1;33m,\u001b[0m \u001b[1;34m'rb'\u001b[0m\u001b[1;33m)\u001b[0m \u001b[1;32mas\u001b[0m \u001b[0mf\u001b[0m\u001b[1;33m:\u001b[0m\u001b[1;33m\u001b[0m\u001b[1;33m\u001b[0m\u001b[0m\n",
      "\u001b[1;32m~\\anaconda3\\lib\\site-packages\\smart_open\\smart_open_lib.py\u001b[0m in \u001b[0;36mopen\u001b[1;34m(uri, mode, buffering, encoding, errors, newline, closefd, opener, ignore_ext, transport_params)\u001b[0m\n\u001b[0;32m    223\u001b[0m     \u001b[1;31m#\u001b[0m\u001b[1;33m\u001b[0m\u001b[1;33m\u001b[0m\u001b[1;33m\u001b[0m\u001b[0m\n\u001b[0;32m    224\u001b[0m     \u001b[0mbinary_mode\u001b[0m \u001b[1;33m=\u001b[0m \u001b[0m_TO_BINARY_LUT\u001b[0m\u001b[1;33m.\u001b[0m\u001b[0mget\u001b[0m\u001b[1;33m(\u001b[0m\u001b[0mmode\u001b[0m\u001b[1;33m,\u001b[0m \u001b[0mmode\u001b[0m\u001b[1;33m)\u001b[0m\u001b[1;33m\u001b[0m\u001b[1;33m\u001b[0m\u001b[0m\n\u001b[1;32m--> 225\u001b[1;33m     \u001b[0mbinary\u001b[0m \u001b[1;33m=\u001b[0m \u001b[0m_open_binary_stream\u001b[0m\u001b[1;33m(\u001b[0m\u001b[0muri\u001b[0m\u001b[1;33m,\u001b[0m \u001b[0mbinary_mode\u001b[0m\u001b[1;33m,\u001b[0m \u001b[0mtransport_params\u001b[0m\u001b[1;33m)\u001b[0m\u001b[1;33m\u001b[0m\u001b[1;33m\u001b[0m\u001b[0m\n\u001b[0m\u001b[0;32m    226\u001b[0m     \u001b[1;32mif\u001b[0m \u001b[0mignore_ext\u001b[0m\u001b[1;33m:\u001b[0m\u001b[1;33m\u001b[0m\u001b[1;33m\u001b[0m\u001b[0m\n\u001b[0;32m    227\u001b[0m         \u001b[0mdecompressed\u001b[0m \u001b[1;33m=\u001b[0m \u001b[0mbinary\u001b[0m\u001b[1;33m\u001b[0m\u001b[1;33m\u001b[0m\u001b[0m\n",
      "\u001b[1;32m~\\anaconda3\\lib\\site-packages\\smart_open\\smart_open_lib.py\u001b[0m in \u001b[0;36m_open_binary_stream\u001b[1;34m(uri, mode, transport_params)\u001b[0m\n\u001b[0;32m    398\u001b[0m \u001b[1;33m\u001b[0m\u001b[0m\n\u001b[0;32m    399\u001b[0m     \u001b[0mscheme\u001b[0m \u001b[1;33m=\u001b[0m \u001b[0m_sniff_scheme\u001b[0m\u001b[1;33m(\u001b[0m\u001b[0muri\u001b[0m\u001b[1;33m)\u001b[0m\u001b[1;33m\u001b[0m\u001b[1;33m\u001b[0m\u001b[0m\n\u001b[1;32m--> 400\u001b[1;33m     \u001b[0msubmodule\u001b[0m \u001b[1;33m=\u001b[0m \u001b[0mtransport\u001b[0m\u001b[1;33m.\u001b[0m\u001b[0mget_transport\u001b[0m\u001b[1;33m(\u001b[0m\u001b[0mscheme\u001b[0m\u001b[1;33m)\u001b[0m\u001b[1;33m\u001b[0m\u001b[1;33m\u001b[0m\u001b[0m\n\u001b[0m\u001b[0;32m    401\u001b[0m     \u001b[0mfobj\u001b[0m \u001b[1;33m=\u001b[0m \u001b[0msubmodule\u001b[0m\u001b[1;33m.\u001b[0m\u001b[0mopen_uri\u001b[0m\u001b[1;33m(\u001b[0m\u001b[0muri\u001b[0m\u001b[1;33m,\u001b[0m \u001b[0mmode\u001b[0m\u001b[1;33m,\u001b[0m \u001b[0mtransport_params\u001b[0m\u001b[1;33m)\u001b[0m\u001b[1;33m\u001b[0m\u001b[1;33m\u001b[0m\u001b[0m\n\u001b[0;32m    402\u001b[0m     \u001b[1;32mif\u001b[0m \u001b[1;32mnot\u001b[0m \u001b[0mhasattr\u001b[0m\u001b[1;33m(\u001b[0m\u001b[0mfobj\u001b[0m\u001b[1;33m,\u001b[0m \u001b[1;34m'name'\u001b[0m\u001b[1;33m)\u001b[0m\u001b[1;33m:\u001b[0m\u001b[1;33m\u001b[0m\u001b[1;33m\u001b[0m\u001b[0m\n",
      "\u001b[1;32m~\\anaconda3\\lib\\site-packages\\smart_open\\transport.py\u001b[0m in \u001b[0;36mget_transport\u001b[1;34m(scheme)\u001b[0m\n\u001b[0;32m     74\u001b[0m         \u001b[0msubmodule\u001b[0m \u001b[1;33m=\u001b[0m \u001b[0m_REGISTRY\u001b[0m\u001b[1;33m[\u001b[0m\u001b[0mscheme\u001b[0m\u001b[1;33m]\u001b[0m\u001b[1;33m\u001b[0m\u001b[1;33m\u001b[0m\u001b[0m\n\u001b[0;32m     75\u001b[0m     \u001b[1;32mexcept\u001b[0m \u001b[0mKeyError\u001b[0m \u001b[1;32mas\u001b[0m \u001b[0me\u001b[0m\u001b[1;33m:\u001b[0m\u001b[1;33m\u001b[0m\u001b[1;33m\u001b[0m\u001b[0m\n\u001b[1;32m---> 76\u001b[1;33m         \u001b[1;32mraise\u001b[0m \u001b[0mNotImplementedError\u001b[0m\u001b[1;33m(\u001b[0m\u001b[0mmessage\u001b[0m\u001b[1;33m)\u001b[0m \u001b[1;32mfrom\u001b[0m \u001b[0me\u001b[0m\u001b[1;33m\u001b[0m\u001b[1;33m\u001b[0m\u001b[0m\n\u001b[0m\u001b[0;32m     77\u001b[0m     \u001b[1;32melse\u001b[0m\u001b[1;33m:\u001b[0m\u001b[1;33m\u001b[0m\u001b[1;33m\u001b[0m\u001b[0m\n\u001b[0;32m     78\u001b[0m         \u001b[1;32mreturn\u001b[0m \u001b[0msubmodule\u001b[0m\u001b[1;33m\u001b[0m\u001b[1;33m\u001b[0m\u001b[0m\n",
      "\u001b[1;31mNotImplementedError\u001b[0m: Unable to handle scheme 'c', expected one of ('', 'file', 'hdfs', 'http', 'https', 's3', 's3a', 's3n', 's3u', 'scp', 'sftp', 'ssh', 'webhdfs'). Extra dependencies required by 'c' may be missing. See <https://github.com/RaRe-Technologies/smart_open/blob/master/README.rst> for details."
     ]
    }
   ],
   "source": [
    "glove_file = datapath('C://Users/30694/Downloads/glove.6B.50d.txt')\n",
    "word2vec_glove_file = get_tmpfile(\"C://Users/30694/Downloads/glove.6B.50d.word2vec.txt\")\n",
    "glove2word2vec(glove_file, word2vec_glove_file)"
   ]
  },
  {
   "cell_type": "code",
   "execution_count": null,
   "metadata": {},
   "outputs": [],
   "source": []
  },
  {
   "cell_type": "code",
   "execution_count": null,
   "metadata": {},
   "outputs": [],
   "source": []
  }
 ],
 "metadata": {
  "kernelspec": {
   "display_name": "Python 3.7.2",
   "language": "python",
   "name": "python3"
  },
  "language_info": {
   "codemirror_mode": {
    "name": "ipython",
    "version": 3
   },
   "file_extension": ".py",
   "mimetype": "text/x-python",
   "name": "python",
   "nbconvert_exporter": "python",
   "pygments_lexer": "ipython3",
   "version": "3.7.6"
  }
 },
 "nbformat": 4,
 "nbformat_minor": 4
}
